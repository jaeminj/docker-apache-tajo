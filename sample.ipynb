{
 "metadata": {
  "name": "",
  "signature": "sha256:90e9a1f7924971a1da9645d716365e27e1fd88f9dcf1c794c21d0581be2dc214"
 },
 "nbformat": 3,
 "nbformat_minor": 0,
 "worksheets": [
  {
   "cells": [
    {
     "cell_type": "code",
     "collapsed": false,
     "input": [
      "rdd = sc.textFile('/table/t1/data.csv')"
     ],
     "language": "python",
     "metadata": {},
     "outputs": []
    },
    {
     "cell_type": "code",
     "collapsed": false,
     "input": [
      "rdd.count()"
     ],
     "language": "python",
     "metadata": {},
     "outputs": []
    }
   ],
   "metadata": {}
  }
 ]
}
